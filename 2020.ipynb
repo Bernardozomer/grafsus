{
 "cells": [
  {
   "cell_type": "code",
   "execution_count": 3,
   "metadata": {},
   "outputs": [],
   "source": [
    "import pandas as pd"
   ]
  },
  {
   "cell_type": "code",
   "execution_count": 4,
   "metadata": {},
   "outputs": [],
   "source": [
    "df = pd.read_csv(\"data/POBR2020.csv\")"
   ]
  },
  {
   "cell_type": "code",
   "execution_count": 5,
   "metadata": {},
   "outputs": [
    {
     "name": "stdout",
     "output_type": "stream",
     "text": [
      "<class 'pandas.core.frame.DataFrame'>\n",
      "RangeIndex: 1526537 entries, 0 to 1526536\n",
      "Data columns (total 23 columns):\n",
      " #   Column      Non-Null Count    Dtype  \n",
      "---  ------      --------------    -----  \n",
      " 0   ANO_DIAGN   1526537 non-null  int64  \n",
      " 1   ANOMES_DIA  1526537 non-null  int64  \n",
      " 2   ANO_TRATAM  814469 non-null   float64\n",
      " 3   ANOMES_TRA  814469 non-null   float64\n",
      " 4   UF_RESID    1526537 non-null  int64  \n",
      " 5   MUN_RESID   1526537 non-null  int64  \n",
      " 6   UF_TRATAM   814469 non-null   float64\n",
      " 7   MUN_TRATAM  814469 non-null   float64\n",
      " 8   UF_DIAGN    1526537 non-null  int64  \n",
      " 9   MUN_DIAG    1526537 non-null  int64  \n",
      " 10  TRATAMENTO  1526537 non-null  int64  \n",
      " 11  DIAGNOSTIC  1526537 non-null  int64  \n",
      " 12  IDADE       1526537 non-null  int64  \n",
      " 13  SEXO        1526537 non-null  object \n",
      " 14  ESTADIAM    1433062 non-null  float64\n",
      " 15  CNES_DIAG   1526537 non-null  int64  \n",
      " 16  CNES_TRAT   814469 non-null   float64\n",
      " 17  TEMPO_TRAT  1480006 non-null  float64\n",
      " 18  CNS_PAC     0 non-null        float64\n",
      " 19  DIAG_DETH   1526537 non-null  object \n",
      " 20  DT_DIAG     1526537 non-null  object \n",
      " 21  DT_TRAT     814469 non-null   object \n",
      " 22  DT_NASC     1526537 non-null  object \n",
      "dtypes: float64(8), int64(10), object(5)\n",
      "memory usage: 267.9+ MB\n"
     ]
    }
   ],
   "source": [
    "df.info()"
   ]
  },
  {
   "cell_type": "code",
   "execution_count": 8,
   "metadata": {},
   "outputs": [
    {
     "name": "stdout",
     "output_type": "stream",
     "text": [
      "ANO_DIAGN: 100.00%\n",
      "ANOMES_DIA: 100.00%\n",
      "ANO_TRATAM: 53.35%\n",
      "ANOMES_TRA: 53.35%\n",
      "UF_RESID: 100.00%\n",
      "MUN_RESID: 100.00%\n",
      "UF_TRATAM: 53.35%\n",
      "MUN_TRATAM: 53.35%\n",
      "UF_DIAGN: 100.00%\n",
      "MUN_DIAG: 100.00%\n",
      "TRATAMENTO: 100.00%\n",
      "DIAGNOSTIC: 100.00%\n",
      "IDADE: 100.00%\n",
      "SEXO: 100.00%\n",
      "ESTADIAM: 93.88%\n",
      "CNES_DIAG: 100.00%\n",
      "CNES_TRAT: 53.35%\n",
      "TEMPO_TRAT: 96.95%\n",
      "CNS_PAC: 0.00%\n",
      "DIAG_DETH: 100.00%\n",
      "DT_DIAG: 100.00%\n",
      "DT_TRAT: 53.35%\n",
      "DT_NASC: 100.00%\n"
     ]
    }
   ],
   "source": [
    "for col in df.columns:\n",
    "    print(f\"{col}: {100 - df[col].isna().sum() / df.shape[0] * 100:.2f}%\")"
   ]
  },
  {
   "cell_type": "code",
   "execution_count": 24,
   "metadata": {},
   "outputs": [
    {
     "ename": "AttributeError",
     "evalue": "'Series' object has no attribute 'key'",
     "output_type": "error",
     "traceback": [
      "\u001b[0;31m---------------------------------------------------------------------------\u001b[0m",
      "\u001b[0;31mAttributeError\u001b[0m                            Traceback (most recent call last)",
      "\u001b[0;32m/tmp/ipykernel_19361/1715160765.py\u001b[0m in \u001b[0;36m?\u001b[0;34m()\u001b[0m\n\u001b[0;32m----> 1\u001b[0;31m \u001b[0mdf\u001b[0m\u001b[0;34m[\u001b[0m\u001b[0;34m\"TEMPO_TRAT\"\u001b[0m\u001b[0;34m]\u001b[0m\u001b[0;34m.\u001b[0m\u001b[0mvalue_counts\u001b[0m\u001b[0;34m(\u001b[0m\u001b[0;34m)\u001b[0m\u001b[0;34m.\u001b[0m\u001b[0mkey\u001b[0m\u001b[0;34m(\u001b[0m\u001b[0;34m)\u001b[0m\u001b[0;34m[\u001b[0m\u001b[0;36m0\u001b[0m\u001b[0;34m]\u001b[0m \u001b[0;34m==\u001b[0m \u001b[0;34m\"+\"\u001b[0m \u001b[0;34m/\u001b[0m \u001b[0mdf\u001b[0m\u001b[0;34m.\u001b[0m\u001b[0mshape\u001b[0m\u001b[0;34m[\u001b[0m\u001b[0;36m0\u001b[0m\u001b[0;34m]\u001b[0m\u001b[0;34m\u001b[0m\u001b[0;34m\u001b[0m\u001b[0m\n\u001b[0m",
      "\u001b[0;32m~/Code/Coleta-Dados/TF/.venv/lib/python3.12/site-packages/pandas/core/generic.py\u001b[0m in \u001b[0;36m?\u001b[0;34m(self, name)\u001b[0m\n\u001b[1;32m   5898\u001b[0m             \u001b[0;32mand\u001b[0m \u001b[0mname\u001b[0m \u001b[0;32mnot\u001b[0m \u001b[0;32min\u001b[0m \u001b[0mself\u001b[0m\u001b[0;34m.\u001b[0m\u001b[0m_accessors\u001b[0m\u001b[0;34m\u001b[0m\u001b[0;34m\u001b[0m\u001b[0m\n\u001b[1;32m   5899\u001b[0m             \u001b[0;32mand\u001b[0m \u001b[0mself\u001b[0m\u001b[0;34m.\u001b[0m\u001b[0m_info_axis\u001b[0m\u001b[0;34m.\u001b[0m\u001b[0m_can_hold_identifiers_and_holds_name\u001b[0m\u001b[0;34m(\u001b[0m\u001b[0mname\u001b[0m\u001b[0;34m)\u001b[0m\u001b[0;34m\u001b[0m\u001b[0;34m\u001b[0m\u001b[0m\n\u001b[1;32m   5900\u001b[0m         \u001b[0;34m)\u001b[0m\u001b[0;34m:\u001b[0m\u001b[0;34m\u001b[0m\u001b[0;34m\u001b[0m\u001b[0m\n\u001b[1;32m   5901\u001b[0m             \u001b[0;32mreturn\u001b[0m \u001b[0mself\u001b[0m\u001b[0;34m[\u001b[0m\u001b[0mname\u001b[0m\u001b[0;34m]\u001b[0m\u001b[0;34m\u001b[0m\u001b[0;34m\u001b[0m\u001b[0m\n\u001b[0;32m-> 5902\u001b[0;31m         \u001b[0;32mreturn\u001b[0m \u001b[0mobject\u001b[0m\u001b[0;34m.\u001b[0m\u001b[0m__getattribute__\u001b[0m\u001b[0;34m(\u001b[0m\u001b[0mself\u001b[0m\u001b[0;34m,\u001b[0m \u001b[0mname\u001b[0m\u001b[0;34m)\u001b[0m\u001b[0;34m\u001b[0m\u001b[0;34m\u001b[0m\u001b[0m\n\u001b[0m",
      "\u001b[0;31mAttributeError\u001b[0m: 'Series' object has no attribute 'key'"
     ]
    }
   ],
   "source": [
    "df[\"TEMPO_TRAT\"].value_counts() / df.shape[0]\n",
    "# find percentage of df[\"TEMPO_TRAT\"] where the key starts with \"+\"\n"
   ]
  },
  {
   "cell_type": "markdown",
   "metadata": {},
   "source": [
    "Estadiamento: \n",
    "    (estágio mais alto -> mais diagnóstico?)\n",
    "    (homens procuram diagnóstico com estágio mais alto que mulheres?)\n",
    "\n",
    "Regiões:\n",
    "    (Alguma região tem mais porcentagem de tratamentos?)\n",
    "    (Uf resid vs uf diag vs uf tratamento)\n",
    "\n",
    "Tratamento:\n",
    "    (Tipo de tratamento relaciona com idade e/ou estágio)\n",
    "\n",
    "Série Temporal:\n",
    "    Buscar relações entre anos\n",
    "    (Trends Pós vs Pré Pandemia -> diagnósticos mudaram?)\n",
    "    (Buscar tipos de câncer mais comuns)\n",
    "\n",
    "Idade:\n",
    "    (Diagnóstico nos mais velhos (surely?))"
   ]
  }
 ],
 "metadata": {
  "kernelspec": {
   "display_name": ".venv",
   "language": "python",
   "name": "python3"
  },
  "language_info": {
   "codemirror_mode": {
    "name": "ipython",
    "version": 3
   },
   "file_extension": ".py",
   "mimetype": "text/x-python",
   "name": "python",
   "nbconvert_exporter": "python",
   "pygments_lexer": "ipython3",
   "version": "3.12.3"
  }
 },
 "nbformat": 4,
 "nbformat_minor": 2
}
