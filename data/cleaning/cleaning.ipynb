{
 "cells": [
  {
   "cell_type": "markdown",
   "metadata": {},
   "source": [
    "# Limpeza e Processamento de Dados"
   ]
  },
  {
   "cell_type": "markdown",
   "metadata": {},
   "source": [
    "Aqui extraímos os dados dos csv's, limpamos e processamos os dados, juntando o resultado em um único csv."
   ]
  },
  {
   "cell_type": "code",
   "execution_count": 1,
   "metadata": {},
   "outputs": [],
   "source": [
    "import pandas as pd\n",
    "from utils import columns_to_drop, cid_translation, cat_dict"
   ]
  },
  {
   "cell_type": "markdown",
   "metadata": {},
   "source": [
    "Aqui importamos a lista de colunas que decidimos não usar, seja por serem redundantes, não serem úteis ou por terem muitos dados faltantes. Além disso temos um dicionário de tradução dos números do CID, que especifica o tipo de doença, e separamos em sistemas do corpo humano para melhor visualização. Por último temos um dicionário para converter as colunas em tipos categóricos para diminuir o uso de memória e facilitar a análise."
   ]
  },
  {
   "cell_type": "code",
   "execution_count": 16,
   "metadata": {},
   "outputs": [],
   "source": [
    "# Converter o dicionario de traducao para que possa ser usado pela funcao .replace()\n",
    "converted_cid_translation = {v: k for k, values in cid_translation.items() for v in values}"
   ]
  },
  {
   "cell_type": "code",
   "execution_count": 4,
   "metadata": {},
   "outputs": [],
   "source": [
    "# Funcao generica para configurar categorias\n",
    "def set_categories(df, col):\n",
    "    df[col] = df[col].astype(\"category\")\n",
    "    df[col] = df[col].cat.set_categories(\n",
    "        new_categories=cat_dict[col][\"cats\"],\n",
    "        ordered=cat_dict[col][\"ordered\"],\n",
    "    )\n",
    "    return df"
   ]
  },
  {
   "cell_type": "markdown",
   "metadata": {},
   "source": [
    "Carregamos o primeiro csv e limpamos os dados, removendo as colunas que decidimos não usar. "
   ]
  },
  {
   "cell_type": "code",
   "execution_count": 5,
   "metadata": {},
   "outputs": [],
   "source": [
    "df = pd.read_csv(\"data/POBR2013.csv\")\n",
    "df.drop(columns=columns_to_drop, inplace=True)"
   ]
  },
  {
   "cell_type": "markdown",
   "metadata": {},
   "source": [
    "Agora, carregamos em sequência os demais csv's, limpando-os e juntando-os ao primeiro csv."
   ]
  },
  {
   "cell_type": "code",
   "execution_count": 6,
   "metadata": {},
   "outputs": [],
   "source": [
    "for i in range(14, 25):\n",
    "    aux_df = pd.read_csv(f\"data/POBR20{i}.csv\")\n",
    "    aux_df.drop(columns=columns_to_drop, inplace=True)\n",
    "    df = pd.concat([df, aux_df])"
   ]
  },
  {
   "cell_type": "code",
   "execution_count": 7,
   "metadata": {},
   "outputs": [],
   "source": [
    "# Aqui estamos substituindo os valores do CID pela traducao definida no dicionario\n",
    "df[\"DIAG_DETH\"] = df[\"DIAG_DETH\"].replace(converted_cid_translation)"
   ]
  },
  {
   "cell_type": "markdown",
   "metadata": {},
   "source": [
    "Agora, precisamos converter as colunas para tipos categóricos, para diminuir o uso de memória e facilitar a análise."
   ]
  },
  {
   "cell_type": "code",
   "execution_count": 8,
   "metadata": {},
   "outputs": [],
   "source": [
    "for col in df.columns:\n",
    "    if col in cat_dict:\n",
    "        df = set_categories(df, col)"
   ]
  },
  {
   "cell_type": "markdown",
   "metadata": {},
   "source": [
    "Aqui vamos analisar se ainda temos dados faltantes nas colunas restantes."
   ]
  },
  {
   "cell_type": "code",
   "execution_count": 12,
   "metadata": {},
   "outputs": [
    {
     "name": "stdout",
     "output_type": "stream",
     "text": [
      "ANO_DIAGN: 100.00%\n",
      "TRATAMENTO: 100.00%\n",
      "DIAGNOSTIC: 100.00%\n",
      "IDADE: 100.00%\n",
      "SEXO: 100.00%\n",
      "ESTADIAM: 93.15%\n",
      "DIAG_DETH: 100.00%\n",
      "DT_DIAG: 100.00%\n",
      "DT_TRAT: 60.98%\n"
     ]
    }
   ],
   "source": [
    "for col in df.columns:\n",
    "    print(f\"{col}: {100 - df[col].isna().sum() / df.shape[0] * 100:.2f}%\")"
   ]
  },
  {
   "cell_type": "markdown",
   "metadata": {},
   "source": [
    "A grande maioria das colunas não tem dados faltantes e no caso de `DT_TRAT` (data de início de tratamento) não há o que fazer, pois é possível que o paciente simplesmente não tenha recebido tratamento.\n",
    "\n",
    "No caso de `ESTADIAM` (estadiamento), os dados já possuem um valor padrão para quando não há informação, que é `9`, então vamos apenas preencher os dados faltantes com esse valor."
   ]
  },
  {
   "cell_type": "code",
   "execution_count": 17,
   "metadata": {},
   "outputs": [],
   "source": [
    "df[\"ESTADIAM\"].fillna(9, inplace=True)"
   ]
  },
  {
   "cell_type": "markdown",
   "metadata": {},
   "source": [
    "Agora só resta converter o dataframe para um novo csv, que será usado na análise dos dados."
   ]
  },
  {
   "cell_type": "code",
   "execution_count": 19,
   "metadata": {},
   "outputs": [],
   "source": [
    "df.to_csv(\"data/POBR.csv\", index=False)"
   ]
  }
 ],
 "metadata": {
  "kernelspec": {
   "display_name": ".venv",
   "language": "python",
   "name": "python3"
  },
  "language_info": {
   "codemirror_mode": {
    "name": "ipython",
    "version": 3
   },
   "file_extension": ".py",
   "mimetype": "text/x-python",
   "name": "python",
   "nbconvert_exporter": "python",
   "pygments_lexer": "ipython3",
   "version": "3.12.4"
  }
 },
 "nbformat": 4,
 "nbformat_minor": 2
}
